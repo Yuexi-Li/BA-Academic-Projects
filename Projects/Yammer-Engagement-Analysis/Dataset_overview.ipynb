{
 "cells": [
  {
   "cell_type": "markdown",
   "metadata": {},
   "source": [
    "# Yammer Dataset"
   ]
  },
  {
   "cell_type": "markdown",
   "metadata": {},
   "source": [
    "## Datasets\n",
    "1. [Users](#Table-1:-Users) :19066 entries \n",
    "2. [Events](#Table-2:-Events): 340832 entries\n",
    "3. [Email Events](#Table-3:-Email-Events): 90389 entries\n",
    "4. [Rollup Periods](#Table-4:-Rollup-Periods): 56002 entries"
   ]
  },
  {
   "cell_type": "code",
   "execution_count": 3,
   "metadata": {},
   "outputs": [],
   "source": [
    "import pandas as pd"
   ]
  },
  {
   "cell_type": "markdown",
   "metadata": {},
   "source": [
    "### Table 1: `Users`\n",
    "This table includes one row per user, with descriptive information about that user's account.   \n",
    "\n",
    "|**FEATURES**| |\n",
    "|:---------|---------:\n",
    "|**user_id** |A unique ID per user    |   \n",
    "|**created_at** |The time the user was created(first singed up) |\n",
    "|**company_id**|The ID of the user's company  |\n",
    "|**language**|The chosen language of the user |  \n",
    "|**activated_at**|The time the user was activated, if they are active|  \n",
    "|**state**|The state of the user (active or pending)  |\n"
   ]
  },
  {
   "cell_type": "code",
   "execution_count": 13,
   "metadata": {},
   "outputs": [
    {
     "data": {
      "text/html": [
       "<div>\n",
       "<style scoped>\n",
       "    .dataframe tbody tr th:only-of-type {\n",
       "        vertical-align: middle;\n",
       "    }\n",
       "\n",
       "    .dataframe tbody tr th {\n",
       "        vertical-align: top;\n",
       "    }\n",
       "\n",
       "    .dataframe thead th {\n",
       "        text-align: right;\n",
       "    }\n",
       "</style>\n",
       "<table border=\"1\" class=\"dataframe\">\n",
       "  <thead>\n",
       "    <tr style=\"text-align: right;\">\n",
       "      <th></th>\n",
       "      <th>user_id</th>\n",
       "      <th>created_at</th>\n",
       "      <th>company_id</th>\n",
       "      <th>language</th>\n",
       "      <th>activated_at</th>\n",
       "      <th>state</th>\n",
       "    </tr>\n",
       "  </thead>\n",
       "  <tbody>\n",
       "    <tr>\n",
       "      <th>0</th>\n",
       "      <td>0.0</td>\n",
       "      <td>2013-01-01 20:59:39</td>\n",
       "      <td>5737.0</td>\n",
       "      <td>english</td>\n",
       "      <td>2013-01-01 21:01:07</td>\n",
       "      <td>active</td>\n",
       "    </tr>\n",
       "    <tr>\n",
       "      <th>1</th>\n",
       "      <td>1.0</td>\n",
       "      <td>2013-01-01 13:07:46</td>\n",
       "      <td>28.0</td>\n",
       "      <td>english</td>\n",
       "      <td>NaN</td>\n",
       "      <td>pending</td>\n",
       "    </tr>\n",
       "    <tr>\n",
       "      <th>2</th>\n",
       "      <td>2.0</td>\n",
       "      <td>2013-01-01 10:59:05</td>\n",
       "      <td>51.0</td>\n",
       "      <td>english</td>\n",
       "      <td>NaN</td>\n",
       "      <td>pending</td>\n",
       "    </tr>\n",
       "    <tr>\n",
       "      <th>3</th>\n",
       "      <td>3.0</td>\n",
       "      <td>2013-01-01 18:40:36</td>\n",
       "      <td>2800.0</td>\n",
       "      <td>german</td>\n",
       "      <td>2013-01-01 18:42:02</td>\n",
       "      <td>active</td>\n",
       "    </tr>\n",
       "    <tr>\n",
       "      <th>4</th>\n",
       "      <td>4.0</td>\n",
       "      <td>2013-01-01 14:37:51</td>\n",
       "      <td>5110.0</td>\n",
       "      <td>indian</td>\n",
       "      <td>2013-01-01 14:39:05</td>\n",
       "      <td>active</td>\n",
       "    </tr>\n",
       "  </tbody>\n",
       "</table>\n",
       "</div>"
      ],
      "text/plain": [
       "   user_id           created_at  company_id language         activated_at  \\\n",
       "0      0.0  2013-01-01 20:59:39      5737.0  english  2013-01-01 21:01:07   \n",
       "1      1.0  2013-01-01 13:07:46        28.0  english                  NaN   \n",
       "2      2.0  2013-01-01 10:59:05        51.0  english                  NaN   \n",
       "3      3.0  2013-01-01 18:40:36      2800.0   german  2013-01-01 18:42:02   \n",
       "4      4.0  2013-01-01 14:37:51      5110.0   indian  2013-01-01 14:39:05   \n",
       "\n",
       "     state  \n",
       "0   active  \n",
       "1  pending  \n",
       "2  pending  \n",
       "3   active  \n",
       "4   active  "
      ]
     },
     "execution_count": 13,
     "metadata": {},
     "output_type": "execute_result"
    }
   ],
   "source": [
    "user=pd.read_csv('./dataset/yammer_users.csv') \n",
    "user.head()"
   ]
  },
  {
   "cell_type": "code",
   "execution_count": 14,
   "metadata": {},
   "outputs": [
    {
     "name": "stdout",
     "output_type": "stream",
     "text": [
      "<class 'pandas.core.frame.DataFrame'>\n",
      "RangeIndex: 19066 entries, 0 to 19065\n",
      "Data columns (total 6 columns):\n",
      "user_id         19066 non-null float64\n",
      "created_at      19066 non-null object\n",
      "company_id      19066 non-null float64\n",
      "language        19066 non-null object\n",
      "activated_at    9381 non-null object\n",
      "state           19066 non-null object\n",
      "dtypes: float64(2), object(4)\n",
      "memory usage: 893.8+ KB\n"
     ]
    }
   ],
   "source": [
    "user.info()"
   ]
  },
  {
   "cell_type": "markdown",
   "metadata": {},
   "source": [
    "***"
   ]
  },
  {
   "cell_type": "markdown",
   "metadata": {},
   "source": [
    "### Table 2: `Events`\n",
    "This table includes one row per event, where an event is an action that a user that has taken on Yammer. These events include login events, messaging events, search events, events logged as users progress through a signup funnel, events around received emails.\n",
    "\n",
    "|**FEATURES**| |\n",
    "|:---------|---------:\n",
    "|**user_id** |A unique ID per user, which is the ID the user logging the event    |   \n",
    "|**occurred_at** |The time the event occurred |\n",
    "|**event_type**|The general event type. \n",
    "|**event name**|The specific action the user took. |  \n",
    "|**location**|The country from which the event was logged|  \n",
    "|**device**|The type of device used to log the event  |\n",
    "\n",
    "`event_type`   \n",
    ">There are two values in this dataset: \n",
    "<p><strong>\"signup_flow\"</strong>: which refers to anything occuring during the process of a user's authentication;    \n",
    "        <p><strong>\"engagement\"</strong>: which refers to general product usage after the user has signed up for the first time.    \n",
    "\n",
    "`event_name` \n",
    "><p><strong>create_user:</strong> User is added to Yammer's database during signup process\n",
    "        <p><strong>enter_email:</strong> User begins the signup process by entering her email address\n",
    "        <p><strong>enter_info:</strong> User enters her name and personal information during signup process\n",
    "        <p><strong>complete_signup:</strong> User completes the entire signup/authentication process\n",
    "        <p><strong>home_page:</strong> User loads the home page\n",
    "        <p><strong>like_message:</strong> User likes another user's message\n",
    "        <p><strong>login:</strong> User logs into Yammer\n",
    "        <p><strong>search_autocomplete:</strong> User selects a search result from the autocomplete list\n",
    "        <p><strong>search_run:</strong> User runs a search query and is taken to the search results page\n",
    "        <p><strong>search_click_result_X:</strong> User clicks search result X on the results page, where X is a number from 1 through 10.\n",
    "        <p><strong>send_message:</strong> User posts a message\n",
    "        <p><strong>view_inbox:</strong> User views messages in her inbox\n",
    "            "
   ]
  },
  {
   "cell_type": "code",
   "execution_count": 11,
   "metadata": {},
   "outputs": [
    {
     "data": {
      "text/html": [
       "<div>\n",
       "<style scoped>\n",
       "    .dataframe tbody tr th:only-of-type {\n",
       "        vertical-align: middle;\n",
       "    }\n",
       "\n",
       "    .dataframe tbody tr th {\n",
       "        vertical-align: top;\n",
       "    }\n",
       "\n",
       "    .dataframe thead th {\n",
       "        text-align: right;\n",
       "    }\n",
       "</style>\n",
       "<table border=\"1\" class=\"dataframe\">\n",
       "  <thead>\n",
       "    <tr style=\"text-align: right;\">\n",
       "      <th></th>\n",
       "      <th>user_id</th>\n",
       "      <th>occurred_at</th>\n",
       "      <th>event_type</th>\n",
       "      <th>event_name</th>\n",
       "      <th>location</th>\n",
       "      <th>device</th>\n",
       "      <th>user_type</th>\n",
       "    </tr>\n",
       "  </thead>\n",
       "  <tbody>\n",
       "    <tr>\n",
       "      <th>0</th>\n",
       "      <td>10522.0</td>\n",
       "      <td>2014-05-02 11:02:39</td>\n",
       "      <td>engagement</td>\n",
       "      <td>login</td>\n",
       "      <td>Japan</td>\n",
       "      <td>dell inspiron notebook</td>\n",
       "      <td>3.0</td>\n",
       "    </tr>\n",
       "    <tr>\n",
       "      <th>1</th>\n",
       "      <td>10522.0</td>\n",
       "      <td>2014-05-02 11:02:53</td>\n",
       "      <td>engagement</td>\n",
       "      <td>home_page</td>\n",
       "      <td>Japan</td>\n",
       "      <td>dell inspiron notebook</td>\n",
       "      <td>3.0</td>\n",
       "    </tr>\n",
       "    <tr>\n",
       "      <th>2</th>\n",
       "      <td>10522.0</td>\n",
       "      <td>2014-05-02 11:03:28</td>\n",
       "      <td>engagement</td>\n",
       "      <td>like_message</td>\n",
       "      <td>Japan</td>\n",
       "      <td>dell inspiron notebook</td>\n",
       "      <td>3.0</td>\n",
       "    </tr>\n",
       "    <tr>\n",
       "      <th>3</th>\n",
       "      <td>10522.0</td>\n",
       "      <td>2014-05-02 11:04:09</td>\n",
       "      <td>engagement</td>\n",
       "      <td>view_inbox</td>\n",
       "      <td>Japan</td>\n",
       "      <td>dell inspiron notebook</td>\n",
       "      <td>3.0</td>\n",
       "    </tr>\n",
       "    <tr>\n",
       "      <th>4</th>\n",
       "      <td>10522.0</td>\n",
       "      <td>2014-05-02 11:03:16</td>\n",
       "      <td>engagement</td>\n",
       "      <td>search_run</td>\n",
       "      <td>Japan</td>\n",
       "      <td>dell inspiron notebook</td>\n",
       "      <td>3.0</td>\n",
       "    </tr>\n",
       "  </tbody>\n",
       "</table>\n",
       "</div>"
      ],
      "text/plain": [
       "   user_id          occurred_at  event_type    event_name location  \\\n",
       "0  10522.0  2014-05-02 11:02:39  engagement         login    Japan   \n",
       "1  10522.0  2014-05-02 11:02:53  engagement     home_page    Japan   \n",
       "2  10522.0  2014-05-02 11:03:28  engagement  like_message    Japan   \n",
       "3  10522.0  2014-05-02 11:04:09  engagement    view_inbox    Japan   \n",
       "4  10522.0  2014-05-02 11:03:16  engagement    search_run    Japan   \n",
       "\n",
       "                   device  user_type  \n",
       "0  dell inspiron notebook        3.0  \n",
       "1  dell inspiron notebook        3.0  \n",
       "2  dell inspiron notebook        3.0  \n",
       "3  dell inspiron notebook        3.0  \n",
       "4  dell inspiron notebook        3.0  "
      ]
     },
     "execution_count": 11,
     "metadata": {},
     "output_type": "execute_result"
    }
   ],
   "source": [
    "events=pd.read_csv('./dataset/yammer_experiments.csv') \n",
    "events.head()"
   ]
  },
  {
   "cell_type": "code",
   "execution_count": 12,
   "metadata": {},
   "outputs": [
    {
     "name": "stdout",
     "output_type": "stream",
     "text": [
      "<class 'pandas.core.frame.DataFrame'>\n",
      "RangeIndex: 340832 entries, 0 to 340831\n",
      "Data columns (total 7 columns):\n",
      "user_id        340832 non-null float64\n",
      "occurred_at    340832 non-null object\n",
      "event_type     340832 non-null object\n",
      "event_name     340832 non-null object\n",
      "location       340832 non-null object\n",
      "device         340832 non-null object\n",
      "user_type      325255 non-null float64\n",
      "dtypes: float64(2), object(5)\n",
      "memory usage: 18.2+ MB\n"
     ]
    }
   ],
   "source": [
    "events.info()"
   ]
  },
  {
   "cell_type": "markdown",
   "metadata": {},
   "source": [
    "*** "
   ]
  },
  {
   "cell_type": "markdown",
   "metadata": {},
   "source": [
    "\n",
    "### Table 3: `Email Events`\n",
    "This table contains events specific to the sending of emails. It is similar in structure to the events table above.\n",
    "\n",
    "|**FEATURES**| |\n",
    "|:---------|---------:\n",
    "|**user_id** |The ID of the user to whom the event relates. Can be joined to user_id in either of the other tables.    |   \n",
    "|**occurred_at** |The time the event occurred.|\n",
    "|**action**|The name of the event that occurred. \"sent_weekly_digest\" means that the user was delivered a digest email showing relevant conversations from the previous day. \"email_open\" means that the user opened the email. \"email_clickthrough\" means that the user clicked a link in the email.  |\n"
   ]
  },
  {
   "cell_type": "code",
   "execution_count": 7,
   "metadata": {},
   "outputs": [
    {
     "data": {
      "text/html": [
       "<div>\n",
       "<style scoped>\n",
       "    .dataframe tbody tr th:only-of-type {\n",
       "        vertical-align: middle;\n",
       "    }\n",
       "\n",
       "    .dataframe tbody tr th {\n",
       "        vertical-align: top;\n",
       "    }\n",
       "\n",
       "    .dataframe thead th {\n",
       "        text-align: right;\n",
       "    }\n",
       "</style>\n",
       "<table border=\"1\" class=\"dataframe\">\n",
       "  <thead>\n",
       "    <tr style=\"text-align: right;\">\n",
       "      <th></th>\n",
       "      <th>user_id</th>\n",
       "      <th>occurred_at</th>\n",
       "      <th>action</th>\n",
       "      <th>user_type</th>\n",
       "    </tr>\n",
       "  </thead>\n",
       "  <tbody>\n",
       "    <tr>\n",
       "      <th>0</th>\n",
       "      <td>0.0</td>\n",
       "      <td>2014-05-06 09:30:00</td>\n",
       "      <td>sent_weekly_digest</td>\n",
       "      <td>1.0</td>\n",
       "    </tr>\n",
       "    <tr>\n",
       "      <th>1</th>\n",
       "      <td>0.0</td>\n",
       "      <td>2014-05-13 09:30:00</td>\n",
       "      <td>sent_weekly_digest</td>\n",
       "      <td>1.0</td>\n",
       "    </tr>\n",
       "    <tr>\n",
       "      <th>2</th>\n",
       "      <td>0.0</td>\n",
       "      <td>2014-05-20 09:30:00</td>\n",
       "      <td>sent_weekly_digest</td>\n",
       "      <td>1.0</td>\n",
       "    </tr>\n",
       "    <tr>\n",
       "      <th>3</th>\n",
       "      <td>0.0</td>\n",
       "      <td>2014-05-27 09:30:00</td>\n",
       "      <td>sent_weekly_digest</td>\n",
       "      <td>1.0</td>\n",
       "    </tr>\n",
       "    <tr>\n",
       "      <th>4</th>\n",
       "      <td>0.0</td>\n",
       "      <td>2014-06-03 09:30:00</td>\n",
       "      <td>sent_weekly_digest</td>\n",
       "      <td>1.0</td>\n",
       "    </tr>\n",
       "  </tbody>\n",
       "</table>\n",
       "</div>"
      ],
      "text/plain": [
       "   user_id          occurred_at              action  user_type\n",
       "0      0.0  2014-05-06 09:30:00  sent_weekly_digest        1.0\n",
       "1      0.0  2014-05-13 09:30:00  sent_weekly_digest        1.0\n",
       "2      0.0  2014-05-20 09:30:00  sent_weekly_digest        1.0\n",
       "3      0.0  2014-05-27 09:30:00  sent_weekly_digest        1.0\n",
       "4      0.0  2014-06-03 09:30:00  sent_weekly_digest        1.0"
      ]
     },
     "execution_count": 7,
     "metadata": {},
     "output_type": "execute_result"
    }
   ],
   "source": [
    "email_events=pd.read_csv('./dataset/yammer_emails.csv') \n",
    "email_events.head()"
   ]
  },
  {
   "cell_type": "code",
   "execution_count": 10,
   "metadata": {},
   "outputs": [
    {
     "name": "stdout",
     "output_type": "stream",
     "text": [
      "<class 'pandas.core.frame.DataFrame'>\n",
      "RangeIndex: 90389 entries, 0 to 90388\n",
      "Data columns (total 4 columns):\n",
      "user_id        90389 non-null float64\n",
      "occurred_at    90389 non-null object\n",
      "action         90389 non-null object\n",
      "user_type      90389 non-null float64\n",
      "dtypes: float64(2), object(2)\n",
      "memory usage: 2.8+ MB\n"
     ]
    }
   ],
   "source": [
    "email_events.info()"
   ]
  },
  {
   "cell_type": "markdown",
   "metadata": {},
   "source": [
    "*** "
   ]
  },
  {
   "cell_type": "markdown",
   "metadata": {},
   "source": [
    "### Table 4: `Rollup Periods`\n",
    "The final table is a lookup table that is used to create rolling time periods. Though you could use the INTERVAL() function, creating rolling time periods is often easiest with a table like this. You won't necessarily need to use this table in queries that you write, but the column descriptions are provided here so that you can understand the query that creates the chart shown above.     \n",
    "\n",
    "|**FEATURES**| |\n",
    "|:---------|---------:\n",
    "|**period_id** |This identifies the type of rollup period. The above dashboard uses period 1007, which is rolling 7-day periods.   |   \n",
    "|**time_id** |This is the identifier for any given data point &mdash; it's what you would put on a chart axis. If time_id is 2014-08-01, that means that is represents the rolling 7-day period leading up to 2014-08-01. |\n",
    "|**pst_start**|The start time of the period in PST. For 2014-08-01, you'll notice that this is 2014-07-25 &mdash; one week prior. Use this to join events to the table.  |\n",
    "|**pst_end**|The start time of the period in PST. For 2014-08-01, the end time is 2014-08-01.  |  \n",
    "|**utc_start**|The same as pst_start, but in UTC time.|  \n",
    "|**utc_start**|The same as pst_end, but in UTC time. |\n",
    "\n"
   ]
  },
  {
   "cell_type": "code",
   "execution_count": 8,
   "metadata": {},
   "outputs": [
    {
     "data": {
      "text/html": [
       "<div>\n",
       "<style scoped>\n",
       "    .dataframe tbody tr th:only-of-type {\n",
       "        vertical-align: middle;\n",
       "    }\n",
       "\n",
       "    .dataframe tbody tr th {\n",
       "        vertical-align: top;\n",
       "    }\n",
       "\n",
       "    .dataframe thead th {\n",
       "        text-align: right;\n",
       "    }\n",
       "</style>\n",
       "<table border=\"1\" class=\"dataframe\">\n",
       "  <thead>\n",
       "    <tr style=\"text-align: right;\">\n",
       "      <th></th>\n",
       "      <th>period_id</th>\n",
       "      <th>time_id</th>\n",
       "      <th>pst_start</th>\n",
       "      <th>pst_end</th>\n",
       "      <th>utc_start</th>\n",
       "      <th>utc_end</th>\n",
       "    </tr>\n",
       "  </thead>\n",
       "  <tbody>\n",
       "    <tr>\n",
       "      <th>0</th>\n",
       "      <td>1.0</td>\n",
       "      <td>2013-01-01 00:00:00</td>\n",
       "      <td>2013-01-01 00:00:00</td>\n",
       "      <td>2013-01-02 00:00:00</td>\n",
       "      <td>2013-01-01 08:00:00</td>\n",
       "      <td>2013-01-02 08:00:00</td>\n",
       "    </tr>\n",
       "    <tr>\n",
       "      <th>1</th>\n",
       "      <td>1.0</td>\n",
       "      <td>2013-01-02 00:00:00</td>\n",
       "      <td>2013-01-02 00:00:00</td>\n",
       "      <td>2013-01-03 00:00:00</td>\n",
       "      <td>2013-01-02 08:00:00</td>\n",
       "      <td>2013-01-03 08:00:00</td>\n",
       "    </tr>\n",
       "    <tr>\n",
       "      <th>2</th>\n",
       "      <td>1.0</td>\n",
       "      <td>2013-01-03 00:00:00</td>\n",
       "      <td>2013-01-03 00:00:00</td>\n",
       "      <td>2013-01-04 00:00:00</td>\n",
       "      <td>2013-01-03 08:00:00</td>\n",
       "      <td>2013-01-04 08:00:00</td>\n",
       "    </tr>\n",
       "    <tr>\n",
       "      <th>3</th>\n",
       "      <td>1.0</td>\n",
       "      <td>2013-01-04 00:00:00</td>\n",
       "      <td>2013-01-04 00:00:00</td>\n",
       "      <td>2013-01-05 00:00:00</td>\n",
       "      <td>2013-01-04 08:00:00</td>\n",
       "      <td>2013-01-05 08:00:00</td>\n",
       "    </tr>\n",
       "    <tr>\n",
       "      <th>4</th>\n",
       "      <td>1.0</td>\n",
       "      <td>2013-01-05 00:00:00</td>\n",
       "      <td>2013-01-05 00:00:00</td>\n",
       "      <td>2013-01-06 00:00:00</td>\n",
       "      <td>2013-01-05 08:00:00</td>\n",
       "      <td>2013-01-06 08:00:00</td>\n",
       "    </tr>\n",
       "  </tbody>\n",
       "</table>\n",
       "</div>"
      ],
      "text/plain": [
       "   period_id              time_id            pst_start              pst_end  \\\n",
       "0        1.0  2013-01-01 00:00:00  2013-01-01 00:00:00  2013-01-02 00:00:00   \n",
       "1        1.0  2013-01-02 00:00:00  2013-01-02 00:00:00  2013-01-03 00:00:00   \n",
       "2        1.0  2013-01-03 00:00:00  2013-01-03 00:00:00  2013-01-04 00:00:00   \n",
       "3        1.0  2013-01-04 00:00:00  2013-01-04 00:00:00  2013-01-05 00:00:00   \n",
       "4        1.0  2013-01-05 00:00:00  2013-01-05 00:00:00  2013-01-06 00:00:00   \n",
       "\n",
       "             utc_start              utc_end  \n",
       "0  2013-01-01 08:00:00  2013-01-02 08:00:00  \n",
       "1  2013-01-02 08:00:00  2013-01-03 08:00:00  \n",
       "2  2013-01-03 08:00:00  2013-01-04 08:00:00  \n",
       "3  2013-01-04 08:00:00  2013-01-05 08:00:00  \n",
       "4  2013-01-05 08:00:00  2013-01-06 08:00:00  "
      ]
     },
     "execution_count": 8,
     "metadata": {},
     "output_type": "execute_result"
    }
   ],
   "source": [
    "rollup_periods=pd.read_csv('./dataset/dimension_rollup_periods.csv') \n",
    "rollup_periods.head()"
   ]
  },
  {
   "cell_type": "code",
   "execution_count": 9,
   "metadata": {},
   "outputs": [
    {
     "name": "stdout",
     "output_type": "stream",
     "text": [
      "<class 'pandas.core.frame.DataFrame'>\n",
      "RangeIndex: 56002 entries, 0 to 56001\n",
      "Data columns (total 6 columns):\n",
      "period_id    56002 non-null float64\n",
      "time_id      56002 non-null object\n",
      "pst_start    56002 non-null object\n",
      "pst_end      56002 non-null object\n",
      "utc_start    56002 non-null object\n",
      "utc_end      56002 non-null object\n",
      "dtypes: float64(1), object(5)\n",
      "memory usage: 2.6+ MB\n"
     ]
    }
   ],
   "source": [
    "rollup_periods.info()"
   ]
  }
 ],
 "metadata": {
  "kernelspec": {
   "display_name": "Python 3",
   "language": "python",
   "name": "python3"
  },
  "language_info": {
   "codemirror_mode": {
    "name": "ipython",
    "version": 3
   },
   "file_extension": ".py",
   "mimetype": "text/x-python",
   "name": "python",
   "nbconvert_exporter": "python",
   "pygments_lexer": "ipython3",
   "version": "3.6.3"
  }
 },
 "nbformat": 4,
 "nbformat_minor": 2
}
