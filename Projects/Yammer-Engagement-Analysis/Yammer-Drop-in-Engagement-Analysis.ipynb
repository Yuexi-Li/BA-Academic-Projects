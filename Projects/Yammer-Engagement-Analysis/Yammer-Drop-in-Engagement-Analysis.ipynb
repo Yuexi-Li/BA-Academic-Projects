{
 "cells": [
  {
   "cell_type": "markdown",
   "metadata": {},
   "source": [
    "## Yammer business background"
   ]
  },
  {
   "cell_type": "markdown",
   "metadata": {},
   "source": [
    "Yammer is a social network for communicating with coworkers. Individuals share documents, updates, and ideas by posting them in groups. Yammer is free to use indefinitely, but companies must pay license fees if they want access to administrative controls, including integration with user management systems like ActiveDirectory.\n",
    "\n",
    "Yammer has a centralized Analytics team, which sits in the Engineering organization. Their primary goal is to drive better product and business decisions using data. They do this partially by providing tools and education that make other teams within Yammer more effective at using data to make better decisions. They also perform ad-hoc analysis to support specific decisions."
   ]
  },
  {
   "cell_type": "markdown",
   "metadata": {},
   "source": [
    "## Table of Content\n",
    "\n",
    "&#8195;<li>[**Libraries and Dependencies**](#-Libraries-and-Dependencies)\n",
    "\n",
    "&#8195;<li>[**Datasets**](#Datasets)\n",
    "     \n",
    "&#8195;<li>[**Content**](#Content)\n",
    "\n",
    "&#8195;&#8195;&#8195;[Part 1. Investigating a Drop in User Engagement](#Part-1.-Investigating-a-Drop-in-User-Engagement)\n",
    "\n",
    "&#8195;&#8195;&#8195;[Part 2. Understanding Search Functionality](#Part-2.-Understanding-Search-Functionality)\n",
    "\n",
    "&#8195;&#8195;&#8195;[Part 3. Validating A/B Test Results](#Part-3.-Validating-A/B-Test-Results)\n",
    "\n",
    "&#8195;<li>[**Reference**](#Reference) "
   ]
  },
  {
   "cell_type": "markdown",
   "metadata": {},
   "source": [
    "## Libraries and Dependencies"
   ]
  },
  {
   "cell_type": "code",
   "execution_count": 361,
   "metadata": {},
   "outputs": [],
   "source": [
    "import pandas as pd\n",
    "import numpy as np\n",
    "import matplotlib.pyplot as plt\n",
    "% matplotlib inline\n",
    "import datetime\n",
    "import plotly.plotly as py\n",
    "import plotly.graph_objs as go\n",
    "from plotly import __version__\n",
    "from plotly.offline import download_plotlyjs, init_notebook_mode, plot, iplot"
   ]
  },
  {
   "cell_type": "code",
   "execution_count": 381,
   "metadata": {},
   "outputs": [
    {
     "data": {
      "text/html": [
       "<script>requirejs.config({paths: { 'plotly': ['https://cdn.plot.ly/plotly-latest.min']},});if(!window.Plotly) {{require(['plotly'],function(plotly) {window.Plotly=plotly;});}}</script>"
      ],
      "text/vnd.plotly.v1+html": [
       "<script>requirejs.config({paths: { 'plotly': ['https://cdn.plot.ly/plotly-latest.min']},});if(!window.Plotly) {{require(['plotly'],function(plotly) {window.Plotly=plotly;});}}</script>"
      ]
     },
     "metadata": {},
     "output_type": "display_data"
    }
   ],
   "source": [
    "init_notebook_mode(connected=True)"
   ]
  },
  {
   "cell_type": "code",
   "execution_count": 376,
   "metadata": {},
   "outputs": [],
   "source": [
    "# import  plotly.offline  as offline\n",
    "# offline.init_notebook_mode()"
   ]
  },
  {
   "cell_type": "markdown",
   "metadata": {},
   "source": [
    "## Datasets\n",
    "&#8195;[**Full explanations and overview of the following datasets: (NBviewer)**](http://nbviewer.jupyter.org/github/YuexiSC/business-and-data-analytics/blob/master/Projects/Yammer-Engagement-Analysis/Dataset_overview.ipynb)\n",
    "1. Users\n",
    "2. Events\n",
    "3. Email Events\n",
    "4. Rollup Periods"
   ]
  },
  {
   "cell_type": "code",
   "execution_count": 311,
   "metadata": {},
   "outputs": [],
   "source": [
    "#Load Data\n",
    "user=pd.read_csv('./dataset/yammer_users.csv')\n",
    "events=pd.read_csv('./dataset/yammer_experiments.csv') \n",
    "email_events=pd.read_csv('./dataset/yammer_emails.csv') \n",
    "rollup_periods=pd.read_csv('./dataset/dimension_rollup_periods.csv') "
   ]
  },
  {
   "cell_type": "markdown",
   "metadata": {},
   "source": [
    "# Content"
   ]
  },
  {
   "cell_type": "markdown",
   "metadata": {},
   "source": [
    "## Part 1. Investigating a Drop in User Engagement"
   ]
  },
  {
   "cell_type": "markdown",
   "metadata": {},
   "source": [
    "#### 1. Visualize latest activity on the user engagement"
   ]
  },
  {
   "cell_type": "code",
   "execution_count": 312,
   "metadata": {},
   "outputs": [
    {
     "data": {
      "text/html": [
       "<div>\n",
       "<style scoped>\n",
       "    .dataframe tbody tr th:only-of-type {\n",
       "        vertical-align: middle;\n",
       "    }\n",
       "\n",
       "    .dataframe tbody tr th {\n",
       "        vertical-align: top;\n",
       "    }\n",
       "\n",
       "    .dataframe thead th {\n",
       "        text-align: right;\n",
       "    }\n",
       "</style>\n",
       "<table border=\"1\" class=\"dataframe\">\n",
       "  <thead>\n",
       "    <tr style=\"text-align: right;\">\n",
       "      <th></th>\n",
       "      <th>user_id</th>\n",
       "      <th>occurred_at</th>\n",
       "      <th>event_type</th>\n",
       "      <th>event_name</th>\n",
       "      <th>location</th>\n",
       "      <th>device</th>\n",
       "      <th>user_type</th>\n",
       "    </tr>\n",
       "  </thead>\n",
       "  <tbody>\n",
       "    <tr>\n",
       "      <th>0</th>\n",
       "      <td>10522.0</td>\n",
       "      <td>2014-05-02 11:02:39</td>\n",
       "      <td>engagement</td>\n",
       "      <td>login</td>\n",
       "      <td>Japan</td>\n",
       "      <td>dell inspiron notebook</td>\n",
       "      <td>3.0</td>\n",
       "    </tr>\n",
       "  </tbody>\n",
       "</table>\n",
       "</div>"
      ],
      "text/plain": [
       "   user_id          occurred_at  event_type event_name location  \\\n",
       "0  10522.0  2014-05-02 11:02:39  engagement      login    Japan   \n",
       "\n",
       "                   device  user_type  \n",
       "0  dell inspiron notebook        3.0  "
      ]
     },
     "execution_count": 312,
     "metadata": {},
     "output_type": "execute_result"
    }
   ],
   "source": [
    "events.head(1)"
   ]
  },
  {
   "cell_type": "code",
   "execution_count": 313,
   "metadata": {},
   "outputs": [
    {
     "data": {
      "text/html": [
       "<div>\n",
       "<style scoped>\n",
       "    .dataframe tbody tr th:only-of-type {\n",
       "        vertical-align: middle;\n",
       "    }\n",
       "\n",
       "    .dataframe tbody tr th {\n",
       "        vertical-align: top;\n",
       "    }\n",
       "\n",
       "    .dataframe thead th {\n",
       "        text-align: right;\n",
       "    }\n",
       "</style>\n",
       "<table border=\"1\" class=\"dataframe\">\n",
       "  <thead>\n",
       "    <tr style=\"text-align: right;\">\n",
       "      <th></th>\n",
       "      <th>user_id</th>\n",
       "      <th>occurred_at</th>\n",
       "      <th>event_type</th>\n",
       "      <th>event_name</th>\n",
       "      <th>location</th>\n",
       "      <th>device</th>\n",
       "      <th>user_type</th>\n",
       "    </tr>\n",
       "  </thead>\n",
       "  <tbody>\n",
       "    <tr>\n",
       "      <th>0</th>\n",
       "      <td>10522.0</td>\n",
       "      <td>2014-05-02 11:02:39</td>\n",
       "      <td>engagement</td>\n",
       "      <td>login</td>\n",
       "      <td>Japan</td>\n",
       "      <td>dell inspiron notebook</td>\n",
       "      <td>3.0</td>\n",
       "    </tr>\n",
       "  </tbody>\n",
       "</table>\n",
       "</div>"
      ],
      "text/plain": [
       "   user_id          occurred_at  event_type event_name location  \\\n",
       "0  10522.0  2014-05-02 11:02:39  engagement      login    Japan   \n",
       "\n",
       "                   device  user_type  \n",
       "0  dell inspiron notebook        3.0  "
      ]
     },
     "execution_count": 313,
     "metadata": {},
     "output_type": "execute_result"
    }
   ],
   "source": [
    "event_daily_active=events[ (events.event_name =='login') & (events.event_type=='engagement')]\n",
    "event_daily_active.head(1)"
   ]
  },
  {
   "cell_type": "code",
   "execution_count": 318,
   "metadata": {},
   "outputs": [
    {
     "name": "stderr",
     "output_type": "stream",
     "text": [
      "/anaconda3/lib/python3.6/site-packages/ipykernel_launcher.py:1: SettingWithCopyWarning: \n",
      "A value is trying to be set on a copy of a slice from a DataFrame.\n",
      "Try using .loc[row_indexer,col_indexer] = value instead\n",
      "\n",
      "See the caveats in the documentation: http://pandas.pydata.org/pandas-docs/stable/indexing.html#indexing-view-versus-copy\n",
      "  \"\"\"Entry point for launching an IPython kernel.\n"
     ]
    }
   ],
   "source": [
    "event_daily_active['occurred_at'] = pd.to_datetime(event_daily_active['occurred_at']).dt.date"
   ]
  },
  {
   "cell_type": "code",
   "execution_count": 353,
   "metadata": {},
   "outputs": [],
   "source": [
    "event_weekly_active=event_daily_active.set_index(pd.to_datetime(event_daily_active.occurred_at)).\\\n",
    "groupby(pd.Grouper(freq='W')).user_id.nunique()"
   ]
  },
  {
   "cell_type": "code",
   "execution_count": 416,
   "metadata": {},
   "outputs": [
    {
     "data": {
      "application/vnd.plotly.v1+json": {
       "data": [
        {
         "type": "scatter",
         "uid": "8f38e0c0-94ef-11e8-9fdd-34363b6f0ee2",
         "x": [
          "2014-05-04",
          "2014-05-11",
          "2014-05-18",
          "2014-05-25",
          "2014-06-01",
          "2014-06-08",
          "2014-06-15",
          "2014-06-22",
          "2014-06-29",
          "2014-07-06",
          "2014-07-13",
          "2014-07-20",
          "2014-07-27",
          "2014-08-03",
          "2014-08-10",
          "2014-08-17",
          "2014-08-24",
          "2014-08-31"
         ],
         "y": [
          701,
          1054,
          1094,
          1147,
          1113,
          1173,
          1219,
          1262,
          1249,
          1271,
          1355,
          1345,
          1363,
          1442,
          1266,
          1215,
          1203,
          1194
         ]
        }
       ],
       "layout": {
        "font": {
         "size": 16
        },
        "title": "Weekly Active Users",
        "xaxis": {
         "title": "Date"
        },
        "yaxis": {
         "title": "Number of Active users",
         "titlefont": {
          "family": "default",
          "size": 18
         }
        }
       }
      },
      "text/html": [
       "<div id=\"e717d47d-aabb-4d21-9bee-10aaae033e3b\" style=\"height: 525px; width: 100%;\" class=\"plotly-graph-div\"></div><script type=\"text/javascript\">require([\"plotly\"], function(Plotly) { window.PLOTLYENV=window.PLOTLYENV || {};window.PLOTLYENV.BASE_URL=\"https://plot.ly\";Plotly.newPlot(\"e717d47d-aabb-4d21-9bee-10aaae033e3b\", [{\"x\": [\"2014-05-04\", \"2014-05-11\", \"2014-05-18\", \"2014-05-25\", \"2014-06-01\", \"2014-06-08\", \"2014-06-15\", \"2014-06-22\", \"2014-06-29\", \"2014-07-06\", \"2014-07-13\", \"2014-07-20\", \"2014-07-27\", \"2014-08-03\", \"2014-08-10\", \"2014-08-17\", \"2014-08-24\", \"2014-08-31\"], \"y\": [701, 1054, 1094, 1147, 1113, 1173, 1219, 1262, 1249, 1271, 1355, 1345, 1363, 1442, 1266, 1215, 1203, 1194], \"type\": \"scatter\", \"uid\": \"8f7e793a-94ef-11e8-8bce-34363b6f0ee2\"}], {\"font\": {\"size\": 16}, \"title\": \"Weekly Active Users\", \"xaxis\": {\"title\": \"Date\"}, \"yaxis\": {\"title\": \"Number of Active users\", \"titlefont\": {\"family\": \"default\", \"size\": 18}}}, {\"showLink\": true, \"linkText\": \"Export to plot.ly\"})});</script>"
      ],
      "text/vnd.plotly.v1+html": [
       "<div id=\"e717d47d-aabb-4d21-9bee-10aaae033e3b\" style=\"height: 525px; width: 100%;\" class=\"plotly-graph-div\"></div><script type=\"text/javascript\">require([\"plotly\"], function(Plotly) { window.PLOTLYENV=window.PLOTLYENV || {};window.PLOTLYENV.BASE_URL=\"https://plot.ly\";Plotly.newPlot(\"e717d47d-aabb-4d21-9bee-10aaae033e3b\", [{\"x\": [\"2014-05-04\", \"2014-05-11\", \"2014-05-18\", \"2014-05-25\", \"2014-06-01\", \"2014-06-08\", \"2014-06-15\", \"2014-06-22\", \"2014-06-29\", \"2014-07-06\", \"2014-07-13\", \"2014-07-20\", \"2014-07-27\", \"2014-08-03\", \"2014-08-10\", \"2014-08-17\", \"2014-08-24\", \"2014-08-31\"], \"y\": [701, 1054, 1094, 1147, 1113, 1173, 1219, 1262, 1249, 1271, 1355, 1345, 1363, 1442, 1266, 1215, 1203, 1194], \"type\": \"scatter\", \"uid\": \"8f7e793a-94ef-11e8-8bce-34363b6f0ee2\"}], {\"font\": {\"size\": 16}, \"title\": \"Weekly Active Users\", \"xaxis\": {\"title\": \"Date\"}, \"yaxis\": {\"title\": \"Number of Active users\", \"titlefont\": {\"family\": \"default\", \"size\": 18}}}, {\"showLink\": true, \"linkText\": \"Export to plot.ly\"})});</script>"
      ]
     },
     "metadata": {},
     "output_type": "display_data"
    }
   ],
   "source": [
    "iplot({'data': [{\"x\":event_weekly_active.index, \"y\": event_weekly_active}],\n",
    "       'layout': {'title': 'Weekly Active Users',\n",
    "                          'font': dict(size=16),       \n",
    "                  'xaxis': {'title':'Date'},\n",
    "                  'yaxis': {'title':'Number of Active users',\n",
    "                           'titlefont': {'family':'default',\n",
    "                                 'size':18,\n",
    "                                  #'color':'black'\n",
    "                                        }}\n",
    "      } \n",
    "      })"
   ]
  },
  {
   "cell_type": "code",
   "execution_count": 189,
   "metadata": {},
   "outputs": [],
   "source": [
    "#Transform 'Activated_at' to Datatime type\n",
    "user['activated_at']= pd.to_datetime(user['activated_at']).dt.date\n",
    "user['created_at']=pd.to_datetime(user.created_at).dt.date"
   ]
  },
  {
   "cell_type": "code",
   "execution_count": 190,
   "metadata": {},
   "outputs": [
    {
     "data": {
      "text/plain": [
       "0.0        1\n",
       "15160.0    1\n",
       "6.0        1\n",
       "7.0        1\n",
       "8.0        1\n",
       "Name: user_id, dtype: int64"
      ]
     },
     "execution_count": 190,
     "metadata": {},
     "output_type": "execute_result"
    }
   ],
   "source": [
    "#Ensure that the User_id is unique which can count the grouped activated day \n",
    "user[user.activated_at.notnull()].user_id.value_counts().sort_values(ascending=False).head()"
   ]
  },
  {
   "cell_type": "code",
   "execution_count": 247,
   "metadata": {},
   "outputs": [
    {
     "data": {
      "text/html": [
       "<div>\n",
       "<style scoped>\n",
       "    .dataframe tbody tr th:only-of-type {\n",
       "        vertical-align: middle;\n",
       "    }\n",
       "\n",
       "    .dataframe tbody tr th {\n",
       "        vertical-align: top;\n",
       "    }\n",
       "\n",
       "    .dataframe thead th {\n",
       "        text-align: right;\n",
       "    }\n",
       "</style>\n",
       "<table border=\"1\" class=\"dataframe\">\n",
       "  <thead>\n",
       "    <tr style=\"text-align: right;\">\n",
       "      <th></th>\n",
       "      <th>user_id</th>\n",
       "      <th>created_at</th>\n",
       "      <th>company_id</th>\n",
       "      <th>language</th>\n",
       "      <th>activated_at</th>\n",
       "      <th>state</th>\n",
       "    </tr>\n",
       "  </thead>\n",
       "  <tbody>\n",
       "    <tr>\n",
       "      <th>15511</th>\n",
       "      <td>15511.0</td>\n",
       "      <td>2014-07-08</td>\n",
       "      <td>11032.0</td>\n",
       "      <td>french</td>\n",
       "      <td>2014-07-08</td>\n",
       "      <td>active</td>\n",
       "    </tr>\n",
       "    <tr>\n",
       "      <th>18688</th>\n",
       "      <td>18688.0</td>\n",
       "      <td>2014-08-26</td>\n",
       "      <td>25.0</td>\n",
       "      <td>english</td>\n",
       "      <td>2014-08-26</td>\n",
       "      <td>active</td>\n",
       "    </tr>\n",
       "    <tr>\n",
       "      <th>17889</th>\n",
       "      <td>17889.0</td>\n",
       "      <td>2014-08-14</td>\n",
       "      <td>7.0</td>\n",
       "      <td>spanish</td>\n",
       "      <td>NaN</td>\n",
       "      <td>pending</td>\n",
       "    </tr>\n",
       "  </tbody>\n",
       "</table>\n",
       "</div>"
      ],
      "text/plain": [
       "       user_id  created_at  company_id language activated_at    state\n",
       "15511  15511.0  2014-07-08     11032.0   french   2014-07-08   active\n",
       "18688  18688.0  2014-08-26        25.0  english   2014-08-26   active\n",
       "17889  17889.0  2014-08-14         7.0  spanish          NaN  pending"
      ]
     },
     "execution_count": 247,
     "metadata": {},
     "output_type": "execute_result"
    }
   ],
   "source": [
    "#Selected time period in from 2014-06-01 to 2014-09-01 (Given the hidden drop)\n",
    "time_selected=user[(user.created_at >= datetime.date(2014,4,28)) & (user.created_at <= datetime.date(2014,9,1))]\n",
    "time_selected.sample(3)"
   ]
  },
  {
   "cell_type": "code",
   "execution_count": 340,
   "metadata": {},
   "outputs": [
    {
     "data": {
      "text/html": [
       "<div>\n",
       "<style scoped>\n",
       "    .dataframe tbody tr th:only-of-type {\n",
       "        vertical-align: middle;\n",
       "    }\n",
       "\n",
       "    .dataframe tbody tr th {\n",
       "        vertical-align: top;\n",
       "    }\n",
       "\n",
       "    .dataframe thead th {\n",
       "        text-align: right;\n",
       "    }\n",
       "</style>\n",
       "<table border=\"1\" class=\"dataframe\">\n",
       "  <thead>\n",
       "    <tr style=\"text-align: right;\">\n",
       "      <th></th>\n",
       "      <th>user_id</th>\n",
       "      <th>company_id</th>\n",
       "      <th>language</th>\n",
       "      <th>activated_at</th>\n",
       "      <th>state</th>\n",
       "    </tr>\n",
       "    <tr>\n",
       "      <th>created_at</th>\n",
       "      <th></th>\n",
       "      <th></th>\n",
       "      <th></th>\n",
       "      <th></th>\n",
       "      <th></th>\n",
       "    </tr>\n",
       "  </thead>\n",
       "  <tbody>\n",
       "    <tr>\n",
       "      <th>2014-04-28</th>\n",
       "      <td>65</td>\n",
       "      <td>65</td>\n",
       "      <td>65</td>\n",
       "      <td>39</td>\n",
       "      <td>65</td>\n",
       "    </tr>\n",
       "    <tr>\n",
       "      <th>2014-04-29</th>\n",
       "      <td>54</td>\n",
       "      <td>54</td>\n",
       "      <td>54</td>\n",
       "      <td>27</td>\n",
       "      <td>54</td>\n",
       "    </tr>\n",
       "    <tr>\n",
       "      <th>2014-04-30</th>\n",
       "      <td>63</td>\n",
       "      <td>63</td>\n",
       "      <td>63</td>\n",
       "      <td>25</td>\n",
       "      <td>63</td>\n",
       "    </tr>\n",
       "  </tbody>\n",
       "</table>\n",
       "</div>"
      ],
      "text/plain": [
       "            user_id  company_id  language  activated_at  state\n",
       "created_at                                                    \n",
       "2014-04-28       65          65        65            39     65\n",
       "2014-04-29       54          54        54            27     54\n",
       "2014-04-30       63          63        63            25     63"
      ]
     },
     "execution_count": 340,
     "metadata": {},
     "output_type": "execute_result"
    }
   ],
   "source": [
    "#Group by activate date to get each day's engagement\n",
    "engegament_all_users=time_selected.groupby(time_selected.created_at).count()\n",
    "engegament_all_users.head(3)"
   ]
  },
  {
   "cell_type": "code",
   "execution_count": 341,
   "metadata": {},
   "outputs": [],
   "source": [
    "#engegament_all_users=pd.to_datetime(engegament_all_user.index)"
   ]
  },
  {
   "cell_type": "code",
   "execution_count": 342,
   "metadata": {},
   "outputs": [
    {
     "data": {
      "text/html": [
       "<div>\n",
       "<style scoped>\n",
       "    .dataframe tbody tr th:only-of-type {\n",
       "        vertical-align: middle;\n",
       "    }\n",
       "\n",
       "    .dataframe tbody tr th {\n",
       "        vertical-align: top;\n",
       "    }\n",
       "\n",
       "    .dataframe thead th {\n",
       "        text-align: right;\n",
       "    }\n",
       "</style>\n",
       "<table border=\"1\" class=\"dataframe\">\n",
       "  <thead>\n",
       "    <tr style=\"text-align: right;\">\n",
       "      <th></th>\n",
       "      <th>user_id</th>\n",
       "      <th>company_id</th>\n",
       "      <th>language</th>\n",
       "      <th>activated_at</th>\n",
       "      <th>state</th>\n",
       "    </tr>\n",
       "    <tr>\n",
       "      <th>created_at</th>\n",
       "      <th></th>\n",
       "      <th></th>\n",
       "      <th></th>\n",
       "      <th></th>\n",
       "      <th></th>\n",
       "    </tr>\n",
       "  </thead>\n",
       "  <tbody>\n",
       "    <tr>\n",
       "      <th>2014-04-28</th>\n",
       "      <td>65</td>\n",
       "      <td>65</td>\n",
       "      <td>65</td>\n",
       "      <td>39</td>\n",
       "      <td>65</td>\n",
       "    </tr>\n",
       "    <tr>\n",
       "      <th>2014-04-29</th>\n",
       "      <td>54</td>\n",
       "      <td>54</td>\n",
       "      <td>54</td>\n",
       "      <td>27</td>\n",
       "      <td>54</td>\n",
       "    </tr>\n",
       "    <tr>\n",
       "      <th>2014-04-30</th>\n",
       "      <td>63</td>\n",
       "      <td>63</td>\n",
       "      <td>63</td>\n",
       "      <td>25</td>\n",
       "      <td>63</td>\n",
       "    </tr>\n",
       "    <tr>\n",
       "      <th>2014-05-01</th>\n",
       "      <td>73</td>\n",
       "      <td>73</td>\n",
       "      <td>73</td>\n",
       "      <td>34</td>\n",
       "      <td>73</td>\n",
       "    </tr>\n",
       "    <tr>\n",
       "      <th>2014-05-02</th>\n",
       "      <td>57</td>\n",
       "      <td>57</td>\n",
       "      <td>57</td>\n",
       "      <td>30</td>\n",
       "      <td>57</td>\n",
       "    </tr>\n",
       "  </tbody>\n",
       "</table>\n",
       "</div>"
      ],
      "text/plain": [
       "            user_id  company_id  language  activated_at  state\n",
       "created_at                                                    \n",
       "2014-04-28       65          65        65            39     65\n",
       "2014-04-29       54          54        54            27     54\n",
       "2014-04-30       63          63        63            25     63\n",
       "2014-05-01       73          73        73            34     73\n",
       "2014-05-02       57          57        57            30     57"
      ]
     },
     "execution_count": 342,
     "metadata": {},
     "output_type": "execute_result"
    }
   ],
   "source": [
    "weekly_all_users = engegament_all_users.set_index(pd.to_datetime(engegament_all_users.index))\n",
    "weekly_all_users.head()"
   ]
  },
  {
   "cell_type": "code",
   "execution_count": 339,
   "metadata": {},
   "outputs": [
    {
     "data": {
      "text/plain": [
       "created_at\n",
       "2014-05-04    353\n",
       "2014-05-11    350\n",
       "2014-05-18    362\n",
       "2014-05-25    371\n",
       "2014-06-01    366\n",
       "2014-06-08    390\n",
       "2014-06-15    413\n",
       "2014-06-22    421\n",
       "2014-06-29    404\n",
       "2014-07-06    405\n",
       "2014-07-13    424\n",
       "2014-07-20    426\n",
       "2014-07-27    458\n",
       "2014-08-03    476\n",
       "2014-08-10    406\n",
       "2014-08-17    473\n",
       "2014-08-24    468\n",
       "2014-08-31    514\n",
       "Freq: W-SUN, Name: user_id, dtype: int64"
      ]
     },
     "execution_count": 339,
     "metadata": {},
     "output_type": "execute_result"
    }
   ],
   "source": [
    "weekly_all_users.user_id.resample('W').sum()"
   ]
  },
  {
   "cell_type": "code",
   "execution_count": 253,
   "metadata": {},
   "outputs": [
    {
     "data": {
      "text/html": [
       "<div>\n",
       "<style scoped>\n",
       "    .dataframe tbody tr th:only-of-type {\n",
       "        vertical-align: middle;\n",
       "    }\n",
       "\n",
       "    .dataframe tbody tr th {\n",
       "        vertical-align: top;\n",
       "    }\n",
       "\n",
       "    .dataframe thead th {\n",
       "        text-align: right;\n",
       "    }\n",
       "</style>\n",
       "<table border=\"1\" class=\"dataframe\">\n",
       "  <thead>\n",
       "    <tr style=\"text-align: right;\">\n",
       "      <th></th>\n",
       "      <th>user_id</th>\n",
       "      <th>created_at</th>\n",
       "      <th>company_id</th>\n",
       "      <th>language</th>\n",
       "      <th>activated_at</th>\n",
       "      <th>state</th>\n",
       "    </tr>\n",
       "    <tr>\n",
       "      <th>activated_at</th>\n",
       "      <th></th>\n",
       "      <th></th>\n",
       "      <th></th>\n",
       "      <th></th>\n",
       "      <th></th>\n",
       "      <th></th>\n",
       "    </tr>\n",
       "  </thead>\n",
       "  <tbody>\n",
       "    <tr>\n",
       "      <th>2014-04-28</th>\n",
       "      <td>39</td>\n",
       "      <td>39</td>\n",
       "      <td>39</td>\n",
       "      <td>39</td>\n",
       "      <td>39</td>\n",
       "      <td>39</td>\n",
       "    </tr>\n",
       "    <tr>\n",
       "      <th>2014-04-29</th>\n",
       "      <td>27</td>\n",
       "      <td>27</td>\n",
       "      <td>27</td>\n",
       "      <td>27</td>\n",
       "      <td>27</td>\n",
       "      <td>27</td>\n",
       "    </tr>\n",
       "    <tr>\n",
       "      <th>2014-04-30</th>\n",
       "      <td>25</td>\n",
       "      <td>25</td>\n",
       "      <td>25</td>\n",
       "      <td>25</td>\n",
       "      <td>25</td>\n",
       "      <td>25</td>\n",
       "    </tr>\n",
       "  </tbody>\n",
       "</table>\n",
       "</div>"
      ],
      "text/plain": [
       "              user_id  created_at  company_id  language  activated_at  state\n",
       "activated_at                                                                \n",
       "2014-04-28         39          39          39        39            39     39\n",
       "2014-04-29         27          27          27        27            27     27\n",
       "2014-04-30         25          25          25        25            25     25"
      ]
     },
     "execution_count": 253,
     "metadata": {},
     "output_type": "execute_result"
    }
   ],
   "source": [
    "#Group by activate date to get each day's engagement\n",
    "engegament_series=time_selected[time_selected.activated_at.notnull()].groupby(time_selected.activated_at).count()\n",
    "engegament_series.head(3)"
   ]
  },
  {
   "cell_type": "code",
   "execution_count": 254,
   "metadata": {},
   "outputs": [
    {
     "data": {
      "text/plain": [
       "activated_at\n",
       "2014-05-04    172\n",
       "2014-05-11    160\n",
       "2014-05-18    186\n",
       "2014-05-25    177\n",
       "2014-06-01    186\n",
       "2014-06-08    197\n",
       "2014-06-15    198\n",
       "2014-06-22    222\n",
       "2014-06-29    210\n",
       "2014-07-06    199\n",
       "2014-07-13    223\n",
       "2014-07-20    215\n",
       "2014-07-27    228\n",
       "2014-08-03    234\n",
       "2014-08-10    189\n",
       "2014-08-17    250\n",
       "2014-08-24    259\n",
       "2014-08-31    266\n",
       "Freq: W-SUN, Name: user_id, dtype: int64"
      ]
     },
     "execution_count": 254,
     "metadata": {},
     "output_type": "execute_result"
    }
   ],
   "source": [
    "weekly_active_users = engegament_series.set_index(pd.to_datetime(engegament_series.index)).user_id\n",
    "weekly_active_users.resample('W').sum()"
   ]
  },
  {
   "cell_type": "markdown",
   "metadata": {},
   "source": [
    "## Part 2. Understanding Search Functionality"
   ]
  },
  {
   "cell_type": "code",
   "execution_count": null,
   "metadata": {},
   "outputs": [],
   "source": []
  },
  {
   "cell_type": "code",
   "execution_count": null,
   "metadata": {},
   "outputs": [],
   "source": []
  },
  {
   "cell_type": "code",
   "execution_count": null,
   "metadata": {},
   "outputs": [],
   "source": []
  },
  {
   "cell_type": "markdown",
   "metadata": {},
   "source": [
    "## Part 3. Validating A/B Test Results"
   ]
  },
  {
   "cell_type": "code",
   "execution_count": null,
   "metadata": {},
   "outputs": [],
   "source": []
  },
  {
   "cell_type": "markdown",
   "metadata": {},
   "source": [
    "## Reference"
   ]
  },
  {
   "cell_type": "markdown",
   "metadata": {},
   "source": [
    "1). [Working_with_time_series_data](https://jakevdp.github.io/PythonDataScienceHandbook/03.11-working-with-time-series.html)   \n",
    "2). [Summarising_Aggregation_and_Grouping_in_Python](https://www.shanelynn.ie/summarising-aggregation-and-grouping-data-in-python-pandas/)  \n",
    "3). [SQL_Python1/2](https://blog.modeanalytics.com/group-by-sql-python/)  \n",
    "&#8194;&#8194;&#8195;[SQL_Python2/2: Set_operation](https://blog.modeanalytics.com/set-operations-python-sql/)"
   ]
  },
  {
   "cell_type": "code",
   "execution_count": null,
   "metadata": {},
   "outputs": [],
   "source": []
  }
 ],
 "metadata": {
  "kernelspec": {
   "display_name": "Python 3",
   "language": "python",
   "name": "python3"
  },
  "language_info": {
   "codemirror_mode": {
    "name": "ipython",
    "version": 3
   },
   "file_extension": ".py",
   "mimetype": "text/x-python",
   "name": "python",
   "nbconvert_exporter": "python",
   "pygments_lexer": "ipython3",
   "version": "3.6.3"
  }
 },
 "nbformat": 4,
 "nbformat_minor": 2
}
